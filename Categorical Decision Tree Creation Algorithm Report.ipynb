{
 "cells": [
  {
   "cell_type": "markdown",
   "id": "a9a82609",
   "metadata": {},
   "source": [
    "<br>\n",
    "<center><h1>  Categorical Decision Tree Creation Algorithm Report </h1></center>\n",
    "\n",
    "***  \n",
    "\n",
    "**&ensp;Authors:** Cameron Wright & Dylan Hammond  \n",
    "**&ensp;&ensp;Course:** Artificial Intelligence [CSE 4301]  \n",
    "\n",
    "**Professor:** Dr. Debasis Mitra  \n",
    "**&ensp;&ensp;&ensp;&ensp;&ensp;&ensp;&ensp;TA:** Valerie Kobzarenko  \n",
    "\n",
    "**&ensp;&ensp;&ensp;&ensp;&ensp;Date:** November 17th, 2021  "
   ]
  },
  {
   "cell_type": "markdown",
   "id": "a7008676",
   "metadata": {},
   "source": [
    "<br>\n",
    "\n",
    "<br>\n",
    "\n",
    "<a name=\"Table_of_contents\"></a>\n",
    "<center><h1> Table of contents </h1></center>\n",
    "    \n",
    "***  \n",
    "\n",
    "\n",
    "- [**Table of contents**](#Table_of_contents)  \n",
    "- [**Source Code**](#Source_Code)  \n",
    "- [**Examples**](#Examples)  \n",
    "- [**Report**](#Report)  \n",
    "- [**References**](#References)  \n",
    "\n"
   ]
  },
  {
   "cell_type": "markdown",
   "id": "9e331082",
   "metadata": {},
   "source": [
    "<br>\n",
    "\n",
    "**Implementation**"
   ]
  },
  {
   "cell_type": "code",
   "execution_count": 1,
   "id": "336c137c",
   "metadata": {},
   "outputs": [
    {
     "name": "stdout",
     "output_type": "stream",
     "text": [
      "Python implementation: CPython\n",
      "Python version       : 3.9.1\n",
      "IPython version      : 7.29.0\n",
      "\n"
     ]
    }
   ],
   "source": [
    "%load_ext watermark\n",
    "%watermark -v -iv\n"
   ]
  },
  {
   "cell_type": "markdown",
   "id": "b4d3cd79",
   "metadata": {},
   "source": [
    "<br>\n",
    "<a name=\"Source_Code\"></a>\n",
    "<center><h2> Source Code </h2></center>\n",
    "\n",
    "*** \n"
   ]
  },
  {
   "cell_type": "markdown",
   "id": "81f193d7",
   "metadata": {},
   "source": [
    "<br>\n",
    "\n",
    "**External Libraries**"
   ]
  },
  {
   "cell_type": "code",
   "execution_count": 2,
   "id": "2e794830",
   "metadata": {},
   "outputs": [],
   "source": [
    "# Arrays \n",
    "import numpy as np\n",
    "# Tables\n",
    "import pandas as pd\n",
    "# Table display & style\n",
    "from IPython.display import HTML\n",
    "# Pesudo infinity value for info gain\n",
    "from math import inf\n",
    "# Display decision tree dictonary\n",
    "from pprint import pprint\n",
    "# Confusion matrix\n",
    "from sklearn.metrics import confusion_matrix\n"
   ]
  },
  {
   "cell_type": "markdown",
   "id": "7da75d12",
   "metadata": {},
   "source": [
    "<br>\n",
    "\n",
    "**Table Helper Class**"
   ]
  },
  {
   "cell_type": "code",
   "execution_count": 3,
   "id": "32586e04",
   "metadata": {},
   "outputs": [],
   "source": [
    "# Discretely store headers (column names) and data (table body) of table\n",
    "class tableLike:\n",
    "    def __init__(self, headers, data):\n",
    "        # Headers of the given table (always the first row)\n",
    "        self.headers = headers\n",
    "        # Body of the given table (all rows below the headers)\n",
    "        self.data = data\n"
   ]
  },
  {
   "cell_type": "markdown",
   "id": "431693d2",
   "metadata": {},
   "source": [
    "<br>\n",
    "\n",
    "**Purity Check**"
   ]
  },
  {
   "cell_type": "code",
   "execution_count": 4,
   "id": "53132264",
   "metadata": {},
   "outputs": [],
   "source": [
    "# Check if target (label) values are pure (all the same categorical element)\n",
    "def pure(tableData):\n",
    "    # Target (label) values, always the last column of table [array]\n",
    "    target = np.unique(tableData[:, -1])\n",
    "    \n",
    "    # If target (label) as only one type of unique element, it is pure [True]\n",
    "    if len(target) == 1:\n",
    "        return True\n",
    "    # More than one unique element, it is NOT pure [False]\n",
    "    return False\n"
   ]
  },
  {
   "cell_type": "markdown",
   "id": "5e5f5c47",
   "metadata": {},
   "source": [
    "<br>\n",
    "\n",
    "**Classification of Labels**"
   ]
  },
  {
   "cell_type": "code",
   "execution_count": 5,
   "id": "857daf23",
   "metadata": {},
   "outputs": [],
   "source": [
    "def classifyTable(tableData):\n",
    "    # Target column\n",
    "    target = tableData[:, -1]\n",
    "    # Unique classes in target column [array] & number of each [array]\n",
    "    classes, classCount = np.unique(target, return_counts=True)\n",
    "    # Class that appears most in target column [string]\n",
    "    bestClass = classes[classCount.argmax()]\n",
    "    \n",
    "    return bestClass\n"
   ]
  },
  {
   "cell_type": "markdown",
   "id": "f0046161",
   "metadata": {},
   "source": [
    "<br>\n",
    "\n",
    "**Find All Splits**"
   ]
  },
  {
   "cell_type": "code",
   "execution_count": 6,
   "id": "f79e9f3c",
   "metadata": {},
   "outputs": [],
   "source": [
    "# Return all possible splits [dictionary] for the given table data\n",
    "def getSplits(tableData):\n",
    "    # Dictionary to store all possible splits found\n",
    "    validSplits = {}\n",
    "    \n",
    "    # Iterate through every column in table data except target\n",
    "    for index, column in enumerate(tableData[:,:-1].T):\n",
    "        # Store all unique elements from current column (classes)\n",
    "        clss = np.unique(column)\n",
    "        validSplits[index] = clss\n",
    "        \n",
    "    return validSplits\n"
   ]
  },
  {
   "cell_type": "markdown",
   "id": "bccb1126",
   "metadata": {},
   "source": [
    "<br>\n",
    "\n",
    "**Entropy Calculation**"
   ]
  },
  {
   "cell_type": "code",
   "execution_count": 7,
   "id": "22b550fc",
   "metadata": {},
   "outputs": [],
   "source": [
    "# Return entropy [float] (a measure of randomness) for the given table data \n",
    "def entropy(tableData):\n",
    "    # All unqiue elements\n",
    "    classes = np.unique(tableData)\n",
    "    # Calculate entropy for all classes\n",
    "    entropy = 0\n",
    "    for clss in classes:\n",
    "        # Probability of current class \n",
    "        probClss = len(tableData[tableData == clss]) / len(tableData)\n",
    "        # Entropy of current class\n",
    "        entropy += -probClss * np.log2(probClss)\n",
    "    \n",
    "    # Total entropy over all classes\n",
    "    return entropy\n"
   ]
  },
  {
   "cell_type": "markdown",
   "id": "b089aa42",
   "metadata": {},
   "source": [
    "<br>\n",
    "\n",
    "**Information Gain**"
   ]
  },
  {
   "cell_type": "code",
   "execution_count": 8,
   "id": "7795acb2",
   "metadata": {},
   "outputs": [],
   "source": [
    "# Return information gain [float] for the given split\n",
    "def infoGain(parent, leftChild, rightChild):\n",
    "    # Probability of left child\n",
    "    leftWeight = len(leftChild) / len(parent)\n",
    "    # Probability of right child\n",
    "    rightWeight = len(rightChild) / len(parent)\n",
    "    # Entropy of parent - average weighted entropy of children\n",
    "    gain = entropy(parent) - (leftWeight*entropy(leftChild) + rightWeight*entropy(rightChild))\n",
    "    \n",
    "    # Information gain for the given split [float]\n",
    "    return gain\n"
   ]
  },
  {
   "cell_type": "markdown",
   "id": "8e1e7d05",
   "metadata": {},
   "source": [
    "<br>\n",
    "\n",
    "**Split Table**"
   ]
  },
  {
   "cell_type": "code",
   "execution_count": 9,
   "id": "6fb534e2",
   "metadata": {},
   "outputs": [],
   "source": [
    "# Return split table data [arrays] based on equality to the given class (clss)\n",
    "def split(tableData, index, clss):\n",
    "    # Store data in the column, that will be used to determine split [array]\n",
    "    splitColumn = tableData[:, index]\n",
    "    # Split rows based on if they are the given class\n",
    "    equalRows = tableData[splitColumn == clss]\n",
    "    unequalRows = tableData[splitColumn != clss] \n",
    "\n",
    "    # Return the split row groups\n",
    "    return equalRows, unequalRows\n"
   ]
  },
  {
   "cell_type": "markdown",
   "id": "1d511b6e",
   "metadata": {},
   "source": [
    "<br>\n",
    "\n",
    "**Find Best Split**"
   ]
  },
  {
   "cell_type": "code",
   "execution_count": 10,
   "id": "08e05080",
   "metadata": {},
   "outputs": [],
   "source": [
    "# Return column index and class [dict] of the split with greatest information gain\n",
    "def bestSplit(tableData):\n",
    "    # Minimum information gain possiable\n",
    "    minGain = -inf\n",
    "    \n",
    "    # Get all possiable splits\n",
    "    validSplits = getSplits(tableData)\n",
    "    # Go through every split\n",
    "    for columnIndex in validSplits:\n",
    "        for clss in validSplits[columnIndex]:\n",
    "            # Get corresponding split rows\n",
    "            equal, unequal = split(tableData, columnIndex, clss)\n",
    "            # Info gain for target column on split\n",
    "            currGain = infoGain(tableData[:, -1], equal[:, -1], unequal[:, -1])\n",
    "            \n",
    "            # Check if split yields more information gain than previous best\n",
    "            if currGain > minGain:\n",
    "                minGain = currGain\n",
    "                bestIndex = columnIndex\n",
    "                bestClss = clss\n",
    "    \n",
    "    # Best split found [dict]\n",
    "    return {'index':bestIndex, 'value':bestClss}\n"
   ]
  },
  {
   "cell_type": "markdown",
   "id": "9d5f332d",
   "metadata": {},
   "source": [
    "<br>\n",
    "\n",
    "**Build Decison Tree**"
   ]
  },
  {
   "cell_type": "code",
   "execution_count": 11,
   "id": "72a3cf4d",
   "metadata": {},
   "outputs": [],
   "source": [
    "# Build decision tree of nested dictionaries for given table data and headers\n",
    "def plant(data, headers, depth=0, minSplit=2, maxDepth=99):\n",
    "    # Base cases (leaf node)\n",
    "    if  len(data) < minSplit or depth ==  maxDepth or pure(data):\n",
    "        # Classification of label column\n",
    "        return classifyTable(data)\n",
    "    # Continue, the current node has children\n",
    "    else:\n",
    "        # Get best splits of all potential splits\n",
    "        node = bestSplit(data)\n",
    "        left, right = split(data, node[\"index\"], node[\"value\"])\n",
    "        \n",
    "        # Split rows should NOT be empty\n",
    "        if len(left) == 0 or len(right) == 0:\n",
    "            return classifyTable(data)\n",
    "        \n",
    "        # Nested dictionary structure for subtree\n",
    "        query = \"%d | %s = %s\" % (node['index'], headers[node['index']], node['value'])\n",
    "        subTree = {query: []}\n",
    "        \n",
    "        # Continue on each child node\n",
    "        left = plant(left, headers, depth+1, minSplit, maxDepth)\n",
    "        right = plant(right, headers, depth+1, minSplit, maxDepth)\n",
    "        \n",
    "        # If children are identical should only be one\n",
    "        if left == right:\n",
    "            subTree = left\n",
    "        else:\n",
    "            # Append children\n",
    "            subTree[query].append(left)\n",
    "            subTree[query].append(right)\n",
    "        return subTree\n",
    "        "
   ]
  },
  {
   "cell_type": "markdown",
   "id": "356fbad3",
   "metadata": {},
   "source": [
    "<br>\n",
    "\n",
    "**Node Format**\n",
    "\n",
    "      parent   left child, right child\n",
    "    { query: [ true group, false group ] }"
   ]
  },
  {
   "cell_type": "markdown",
   "id": "a1b45ac0",
   "metadata": {},
   "source": [
    "<br>\n",
    "\n",
    "**Classify Tree**"
   ]
  },
  {
   "cell_type": "code",
   "execution_count": 12,
   "id": "a9117f2a",
   "metadata": {},
   "outputs": [],
   "source": [
    "# Return lables for given tree [array]\n",
    "def classifyTree(tableData, tree):\n",
    "    # Parse current query\n",
    "    query = list(tree.keys())[0]\n",
    "    # Column index, '|', Column header, '=', Label value\n",
    "    colIndex, _, header, _, value = query.split()\n",
    "\n",
    "    # Equal rows, continue on left subtree\n",
    "    if tableData[int(colIndex)] == value:\n",
    "        decision = tree[query][0]\n",
    "    else:\n",
    "        # Unequal rows, continue on right subtree\n",
    "        decision = tree[query][1]\n",
    "\n",
    "    # If decision is not a dictionary, base case reached (leaf node)\n",
    "    if not isinstance(decision, dict):\n",
    "        return decision\n",
    "    else:\n",
    "        # Recursively continue on remaining subtree\n",
    "        return classifyTree(tableData, decision)\n"
   ]
  },
  {
   "cell_type": "markdown",
   "id": "599f3904",
   "metadata": {},
   "source": [
    "<br>\n",
    "\n",
    "**Display Confusion Matrix**"
   ]
  },
  {
   "cell_type": "code",
   "execution_count": 13,
   "id": "7cd975ee",
   "metadata": {},
   "outputs": [],
   "source": [
    "# Display confusion matrix for labels of the actual table & those predicted by tree\n",
    "def confusionMatrix(table, tree):\n",
    "    # np.apply_along_axis does not like string dtype (will truncate)\n",
    "    table = np.array(table, dtype=object)\n",
    "    \n",
    "    # Predicted table labels\n",
    "    predicted = pd.Series([classifyTree(table[i], tree) for i in range(table.shape[0])], name='Actual')\n",
    "    # Actual table labels\n",
    "    actual = pd.Series(table[:,-1].tolist(), name='Predicted')\n",
    "    \n",
    "    # Display confusion matrix\n",
    "    print(pd.crosstab(actual, predicted, rownames=['Actual'], colnames=['Predicted'], margins=True))\n",
    "    "
   ]
  },
  {
   "cell_type": "markdown",
   "id": "1d333739",
   "metadata": {},
   "source": [
    "<br>\n",
    "<a name=\"Examples\"></a>\n",
    "<center><h2> Examples </h2></center>\n",
    "\n",
    "*** \n"
   ]
  },
  {
   "cell_type": "markdown",
   "id": "7f62f77a",
   "metadata": {},
   "source": [
    "<br>\n",
    "\n",
    "**Local directory contents (Example files)**"
   ]
  },
  {
   "cell_type": "code",
   "execution_count": 14,
   "id": "3beee4f5",
   "metadata": {},
   "outputs": [
    {
     "name": "stdout",
     "output_type": "stream",
     "text": [
      "mammal.txt\n",
      "restaurant.txt\n",
      "tennis.txt\n",
      "vertebrate.txt\n"
     ]
    }
   ],
   "source": [
    "# For accessing & displaying contents (files) of the working (local) directory\n",
    "from os import listdir\n",
    "from os.path import isfile\n",
    "from os.path import join\n",
    "from os.path import abspath\n",
    "\n",
    "# Path to current working directory\n",
    "dir_path = abspath('')\n",
    "#dir_path = \"D:\\Documents\\Jupyter_Notebooks\\AI\"\n",
    "\n",
    "# Store example files [.txt] in the local directory [list]\n",
    "files = [f for f in listdir(dir_path)\n",
    "         if isfile(join(dir_path, f)) and f[-3:] == 'txt']\n",
    "\n",
    "# Output all local example files\n",
    "print('\\n'.join(files))\n"
   ]
  },
  {
   "cell_type": "markdown",
   "id": "a1be4d47",
   "metadata": {},
   "source": [
    "<br>\n",
    "\n",
    "**Display & Return Table**"
   ]
  },
  {
   "cell_type": "code",
   "execution_count": 15,
   "id": "92772fc3",
   "metadata": {},
   "outputs": [],
   "source": [
    "# Display dataframe [HTML] & Return tableLike [class] given its path (i.e. \"~\\folder\\table.txt\")\n",
    "def GetTable(path):\n",
    "    # Read in table ('\\t' as seperator) from path as a pandas dataframe, first row set as headers\n",
    "    table = pd.read_table(path, header=0)\n",
    "    # Table header (column) names as 1d numpy array\n",
    "    headers = table.columns\n",
    "    # Store table body values as numpy array\n",
    "    data = table.values\n",
    "\n",
    "    # Display table [pandas dataframe] reterned as HTML table and stylized using CSS\n",
    "    display(HTML('''\n",
    "        <style>\n",
    "            table.dataframe table {\n",
    "                border-collapse: collapse;\n",
    "            }\n",
    "            table.dataframe td:first-child { border-left: none; }\n",
    "            table.dataframe th {\n",
    "                text-align: left;\n",
    "                font-weight: bold;\n",
    "            }\n",
    "            table.dataframe td { \n",
    "                border-left: 0.75px solid lightgrey;\n",
    "                border-bottom: 0.75px solid lightgrey;\n",
    "                text-align: left;\n",
    "            }\n",
    "            table.dataframe thead th {\n",
    "                background-color: #e8e8e8;\n",
    "                border-bottom: 3px solid black; \n",
    "            }\n",
    "            table.dataframe tbody th{ border-right: 2px solid black; }\n",
    "            table.dataframe tr:nth-child(even){ background-color: #e0f1ff; }\n",
    "            table.dataframe tbody th:nth-child(even) { background-color: #e0f1ff; }\n",
    "              \n",
    "        </style>\n",
    "        ''' + table.to_html(classes=\"table\")))\n",
    "    \n",
    "    # Return table as list of headers  (without index column) columns preserved with dtype (i.e. <arry>.dtype.name)\n",
    "    return tableLike(headers, data)\n"
   ]
  },
  {
   "cell_type": "markdown",
   "id": "e17ade3c",
   "metadata": {},
   "source": [
    "<br>\n",
    "<a name=\"mammal\"></a>\n",
    "\n",
    "**mammal**"
   ]
  },
  {
   "cell_type": "code",
   "execution_count": 16,
   "id": "8f4ce804",
   "metadata": {},
   "outputs": [
    {
     "data": {
      "text/html": [
       "\n",
       "        <style>\n",
       "            table.dataframe table {\n",
       "                border-collapse: collapse;\n",
       "            }\n",
       "            table.dataframe td:first-child { border-left: none; }\n",
       "            table.dataframe th {\n",
       "                text-align: left;\n",
       "                font-weight: bold;\n",
       "            }\n",
       "            table.dataframe td { \n",
       "                border-left: 0.75px solid lightgrey;\n",
       "                border-bottom: 0.75px solid lightgrey;\n",
       "                text-align: left;\n",
       "            }\n",
       "            table.dataframe thead th {\n",
       "                background-color: #e8e8e8;\n",
       "                border-bottom: 3px solid black; \n",
       "            }\n",
       "            table.dataframe tbody th{ border-right: 2px solid black; }\n",
       "            table.dataframe tr:nth-child(even){ background-color: #e0f1ff; }\n",
       "            table.dataframe tbody th:nth-child(even) { background-color: #e0f1ff; }\n",
       "              \n",
       "        </style>\n",
       "        <table border=\"1\" class=\"dataframe table\">\n",
       "  <thead>\n",
       "    <tr style=\"text-align: right;\">\n",
       "      <th></th>\n",
       "      <th>Name</th>\n",
       "      <th>Body-Temperature</th>\n",
       "      <th>Gives-Birth</th>\n",
       "      <th>Four-legged</th>\n",
       "      <th>Hibernates</th>\n",
       "      <th>Class-Label</th>\n",
       "    </tr>\n",
       "  </thead>\n",
       "  <tbody>\n",
       "    <tr>\n",
       "      <th>0</th>\n",
       "      <td>salamander</td>\n",
       "      <td>cold-blooded</td>\n",
       "      <td>no</td>\n",
       "      <td>yes</td>\n",
       "      <td>yes</td>\n",
       "      <td>no</td>\n",
       "    </tr>\n",
       "    <tr>\n",
       "      <th>1</th>\n",
       "      <td>guppy</td>\n",
       "      <td>cold-blooded</td>\n",
       "      <td>yes</td>\n",
       "      <td>no</td>\n",
       "      <td>no</td>\n",
       "      <td>no</td>\n",
       "    </tr>\n",
       "    <tr>\n",
       "      <th>2</th>\n",
       "      <td>eagle</td>\n",
       "      <td>warm-blooded</td>\n",
       "      <td>no</td>\n",
       "      <td>no</td>\n",
       "      <td>no</td>\n",
       "      <td>no</td>\n",
       "    </tr>\n",
       "    <tr>\n",
       "      <th>3</th>\n",
       "      <td>poorwill</td>\n",
       "      <td>warm-blooded</td>\n",
       "      <td>no</td>\n",
       "      <td>no</td>\n",
       "      <td>yes</td>\n",
       "      <td>no</td>\n",
       "    </tr>\n",
       "    <tr>\n",
       "      <th>4</th>\n",
       "      <td>platypus</td>\n",
       "      <td>warm-blooded</td>\n",
       "      <td>no</td>\n",
       "      <td>yes</td>\n",
       "      <td>yes</td>\n",
       "      <td>yes</td>\n",
       "    </tr>\n",
       "  </tbody>\n",
       "</table>"
      ],
      "text/plain": [
       "<IPython.core.display.HTML object>"
      ]
     },
     "metadata": {},
     "output_type": "display_data"
    }
   ],
   "source": [
    "table = GetTable(\"mammal.txt\")"
   ]
  },
  {
   "cell_type": "markdown",
   "id": "6fc28242",
   "metadata": {},
   "source": [
    "*Create decision tree:*"
   ]
  },
  {
   "cell_type": "code",
   "execution_count": 17,
   "id": "1e5fb4b8",
   "metadata": {},
   "outputs": [
    {
     "name": "stdout",
     "output_type": "stream",
     "text": [
      "{'0 | Name = platypus': ['yes', 'no']}\n"
     ]
    }
   ],
   "source": [
    "tree = plant(table.data, table.headers)\n",
    "pprint(tree,indent=0)"
   ]
  },
  {
   "cell_type": "markdown",
   "id": "88d1396d",
   "metadata": {},
   "source": [
    "*Corresponding confusion matrix:*"
   ]
  },
  {
   "cell_type": "code",
   "execution_count": 18,
   "id": "381918ab",
   "metadata": {},
   "outputs": [
    {
     "name": "stdout",
     "output_type": "stream",
     "text": [
      "Predicted  no  yes  All\n",
      "Actual                 \n",
      "no          4    0    4\n",
      "yes         0    1    1\n",
      "All         4    1    5\n"
     ]
    }
   ],
   "source": [
    "confusionMatrix(table.data, tree)"
   ]
  },
  {
   "cell_type": "markdown",
   "id": "8f2994a9",
   "metadata": {},
   "source": [
    "<br>\n",
    "<a name=\"tennis\"></a>\n",
    "\n",
    "**tennis**"
   ]
  },
  {
   "cell_type": "code",
   "execution_count": 19,
   "id": "c122cd12",
   "metadata": {},
   "outputs": [
    {
     "data": {
      "text/html": [
       "\n",
       "        <style>\n",
       "            table.dataframe table {\n",
       "                border-collapse: collapse;\n",
       "            }\n",
       "            table.dataframe td:first-child { border-left: none; }\n",
       "            table.dataframe th {\n",
       "                text-align: left;\n",
       "                font-weight: bold;\n",
       "            }\n",
       "            table.dataframe td { \n",
       "                border-left: 0.75px solid lightgrey;\n",
       "                border-bottom: 0.75px solid lightgrey;\n",
       "                text-align: left;\n",
       "            }\n",
       "            table.dataframe thead th {\n",
       "                background-color: #e8e8e8;\n",
       "                border-bottom: 3px solid black; \n",
       "            }\n",
       "            table.dataframe tbody th{ border-right: 2px solid black; }\n",
       "            table.dataframe tr:nth-child(even){ background-color: #e0f1ff; }\n",
       "            table.dataframe tbody th:nth-child(even) { background-color: #e0f1ff; }\n",
       "              \n",
       "        </style>\n",
       "        <table border=\"1\" class=\"dataframe table\">\n",
       "  <thead>\n",
       "    <tr style=\"text-align: right;\">\n",
       "      <th></th>\n",
       "      <th>Outlook</th>\n",
       "      <th>Temperature</th>\n",
       "      <th>Humidity</th>\n",
       "      <th>Wind</th>\n",
       "      <th>PlayTennis</th>\n",
       "    </tr>\n",
       "  </thead>\n",
       "  <tbody>\n",
       "    <tr>\n",
       "      <th>0</th>\n",
       "      <td>Sunny</td>\n",
       "      <td>Hot</td>\n",
       "      <td>High</td>\n",
       "      <td>Weak</td>\n",
       "      <td>No</td>\n",
       "    </tr>\n",
       "    <tr>\n",
       "      <th>1</th>\n",
       "      <td>Sunny</td>\n",
       "      <td>Hot</td>\n",
       "      <td>High</td>\n",
       "      <td>Strong</td>\n",
       "      <td>No</td>\n",
       "    </tr>\n",
       "    <tr>\n",
       "      <th>2</th>\n",
       "      <td>Overcast</td>\n",
       "      <td>Hot</td>\n",
       "      <td>High</td>\n",
       "      <td>Weak</td>\n",
       "      <td>Yes</td>\n",
       "    </tr>\n",
       "    <tr>\n",
       "      <th>3</th>\n",
       "      <td>Rain</td>\n",
       "      <td>Mild</td>\n",
       "      <td>High</td>\n",
       "      <td>Weak</td>\n",
       "      <td>Yes</td>\n",
       "    </tr>\n",
       "    <tr>\n",
       "      <th>4</th>\n",
       "      <td>Rain</td>\n",
       "      <td>Cool</td>\n",
       "      <td>Normal</td>\n",
       "      <td>Weak</td>\n",
       "      <td>Yes</td>\n",
       "    </tr>\n",
       "    <tr>\n",
       "      <th>5</th>\n",
       "      <td>Rain</td>\n",
       "      <td>Cool</td>\n",
       "      <td>Normal</td>\n",
       "      <td>Strong</td>\n",
       "      <td>No</td>\n",
       "    </tr>\n",
       "    <tr>\n",
       "      <th>6</th>\n",
       "      <td>Overcast</td>\n",
       "      <td>Cool</td>\n",
       "      <td>Normal</td>\n",
       "      <td>Strong</td>\n",
       "      <td>Yes</td>\n",
       "    </tr>\n",
       "    <tr>\n",
       "      <th>7</th>\n",
       "      <td>Sunny</td>\n",
       "      <td>Mild</td>\n",
       "      <td>High</td>\n",
       "      <td>Weak</td>\n",
       "      <td>No</td>\n",
       "    </tr>\n",
       "    <tr>\n",
       "      <th>8</th>\n",
       "      <td>Sunny</td>\n",
       "      <td>Cool</td>\n",
       "      <td>Normal</td>\n",
       "      <td>Weak</td>\n",
       "      <td>Yes</td>\n",
       "    </tr>\n",
       "    <tr>\n",
       "      <th>9</th>\n",
       "      <td>Rain</td>\n",
       "      <td>Mild</td>\n",
       "      <td>Normal</td>\n",
       "      <td>Weak</td>\n",
       "      <td>Yes</td>\n",
       "    </tr>\n",
       "    <tr>\n",
       "      <th>10</th>\n",
       "      <td>Sunny</td>\n",
       "      <td>Mild</td>\n",
       "      <td>Normal</td>\n",
       "      <td>Strong</td>\n",
       "      <td>Yes</td>\n",
       "    </tr>\n",
       "    <tr>\n",
       "      <th>11</th>\n",
       "      <td>Overcast</td>\n",
       "      <td>Mild</td>\n",
       "      <td>High</td>\n",
       "      <td>Strong</td>\n",
       "      <td>Yes</td>\n",
       "    </tr>\n",
       "    <tr>\n",
       "      <th>12</th>\n",
       "      <td>Overcast</td>\n",
       "      <td>Hot</td>\n",
       "      <td>Normal</td>\n",
       "      <td>Weak</td>\n",
       "      <td>Yes</td>\n",
       "    </tr>\n",
       "    <tr>\n",
       "      <th>13</th>\n",
       "      <td>Rain</td>\n",
       "      <td>Mild</td>\n",
       "      <td>High</td>\n",
       "      <td>Strong</td>\n",
       "      <td>No</td>\n",
       "    </tr>\n",
       "  </tbody>\n",
       "</table>"
      ],
      "text/plain": [
       "<IPython.core.display.HTML object>"
      ]
     },
     "metadata": {},
     "output_type": "display_data"
    }
   ],
   "source": [
    "table = GetTable(\"tennis.txt\")"
   ]
  },
  {
   "cell_type": "markdown",
   "id": "c435e11c",
   "metadata": {},
   "source": [
    "*Create & display decision tree:*"
   ]
  },
  {
   "cell_type": "code",
   "execution_count": 20,
   "id": "ef4b92d6",
   "metadata": {},
   "outputs": [
    {
     "name": "stdout",
     "output_type": "stream",
     "text": [
      "{'0 | Outlook = Overcast': ['Yes',\n",
      "                            {'2 | Humidity = High': [{'0 | Outlook = Rain': [{'3 | Wind = Strong': ['No',\n",
      "                                                                                                    'Yes']},\n",
      "                                                                             'No']},\n",
      "                                                     {'3 | Wind = Strong': [{'0 | Outlook = Rain': ['No',\n",
      "                                                                                                    'Yes']},\n",
      "                                                                            'Yes']}]}]}\n"
     ]
    }
   ],
   "source": [
    "tree = plant(table.data, table.headers)\n",
    "pprint(tree,indent=1)"
   ]
  },
  {
   "cell_type": "markdown",
   "id": "8cd6245b",
   "metadata": {},
   "source": [
    "*Corresponding confusion matrix:*"
   ]
  },
  {
   "cell_type": "code",
   "execution_count": 21,
   "id": "5ae6c53e",
   "metadata": {},
   "outputs": [
    {
     "name": "stdout",
     "output_type": "stream",
     "text": [
      "Predicted  No  Yes  All\n",
      "Actual                 \n",
      "No          5    0    5\n",
      "Yes         0    9    9\n",
      "All         5    9   14\n"
     ]
    }
   ],
   "source": [
    "confusionMatrix(table.data, tree)"
   ]
  },
  {
   "cell_type": "markdown",
   "id": "48f93dcf",
   "metadata": {},
   "source": [
    "<br>\n",
    "<a name=\"restaurant\"></a>\n",
    "\n",
    "**restaurant**"
   ]
  },
  {
   "cell_type": "code",
   "execution_count": 22,
   "id": "6bc114e2",
   "metadata": {},
   "outputs": [
    {
     "data": {
      "text/html": [
       "\n",
       "        <style>\n",
       "            table.dataframe table {\n",
       "                border-collapse: collapse;\n",
       "            }\n",
       "            table.dataframe td:first-child { border-left: none; }\n",
       "            table.dataframe th {\n",
       "                text-align: left;\n",
       "                font-weight: bold;\n",
       "            }\n",
       "            table.dataframe td { \n",
       "                border-left: 0.75px solid lightgrey;\n",
       "                border-bottom: 0.75px solid lightgrey;\n",
       "                text-align: left;\n",
       "            }\n",
       "            table.dataframe thead th {\n",
       "                background-color: #e8e8e8;\n",
       "                border-bottom: 3px solid black; \n",
       "            }\n",
       "            table.dataframe tbody th{ border-right: 2px solid black; }\n",
       "            table.dataframe tr:nth-child(even){ background-color: #e0f1ff; }\n",
       "            table.dataframe tbody th:nth-child(even) { background-color: #e0f1ff; }\n",
       "              \n",
       "        </style>\n",
       "        <table border=\"1\" class=\"dataframe table\">\n",
       "  <thead>\n",
       "    <tr style=\"text-align: right;\">\n",
       "      <th></th>\n",
       "      <th>Alt</th>\n",
       "      <th>Bar</th>\n",
       "      <th>Fri</th>\n",
       "      <th>Hun</th>\n",
       "      <th>Pat</th>\n",
       "      <th>Price</th>\n",
       "      <th>Rain</th>\n",
       "      <th>Res</th>\n",
       "      <th>Type</th>\n",
       "      <th>Est</th>\n",
       "      <th>WillWait</th>\n",
       "    </tr>\n",
       "  </thead>\n",
       "  <tbody>\n",
       "    <tr>\n",
       "      <th>0</th>\n",
       "      <td>Yes</td>\n",
       "      <td>No</td>\n",
       "      <td>No</td>\n",
       "      <td>Yes</td>\n",
       "      <td>Some</td>\n",
       "      <td>$$$</td>\n",
       "      <td>No</td>\n",
       "      <td>Yes</td>\n",
       "      <td>French</td>\n",
       "      <td>0-10</td>\n",
       "      <td>Yes</td>\n",
       "    </tr>\n",
       "    <tr>\n",
       "      <th>1</th>\n",
       "      <td>Yes</td>\n",
       "      <td>No</td>\n",
       "      <td>No</td>\n",
       "      <td>Yes</td>\n",
       "      <td>Full</td>\n",
       "      <td>$</td>\n",
       "      <td>No</td>\n",
       "      <td>No</td>\n",
       "      <td>Thai</td>\n",
       "      <td>30-60</td>\n",
       "      <td>No</td>\n",
       "    </tr>\n",
       "    <tr>\n",
       "      <th>2</th>\n",
       "      <td>No</td>\n",
       "      <td>Yes</td>\n",
       "      <td>No</td>\n",
       "      <td>No</td>\n",
       "      <td>Some</td>\n",
       "      <td>$</td>\n",
       "      <td>No</td>\n",
       "      <td>No</td>\n",
       "      <td>Burger</td>\n",
       "      <td>0-10</td>\n",
       "      <td>Yes</td>\n",
       "    </tr>\n",
       "    <tr>\n",
       "      <th>3</th>\n",
       "      <td>Yes</td>\n",
       "      <td>No</td>\n",
       "      <td>Yes</td>\n",
       "      <td>Yes</td>\n",
       "      <td>Full</td>\n",
       "      <td>$</td>\n",
       "      <td>Yes</td>\n",
       "      <td>No</td>\n",
       "      <td>Thai</td>\n",
       "      <td>10-30</td>\n",
       "      <td>Yes</td>\n",
       "    </tr>\n",
       "    <tr>\n",
       "      <th>4</th>\n",
       "      <td>Yes</td>\n",
       "      <td>No</td>\n",
       "      <td>Yes</td>\n",
       "      <td>No</td>\n",
       "      <td>Full</td>\n",
       "      <td>$$$</td>\n",
       "      <td>No</td>\n",
       "      <td>Yes</td>\n",
       "      <td>French</td>\n",
       "      <td>&gt;60</td>\n",
       "      <td>No</td>\n",
       "    </tr>\n",
       "    <tr>\n",
       "      <th>5</th>\n",
       "      <td>No</td>\n",
       "      <td>Yes</td>\n",
       "      <td>No</td>\n",
       "      <td>Yes</td>\n",
       "      <td>Some</td>\n",
       "      <td>$$</td>\n",
       "      <td>Yes</td>\n",
       "      <td>Yes</td>\n",
       "      <td>Italian</td>\n",
       "      <td>0-10</td>\n",
       "      <td>Yes</td>\n",
       "    </tr>\n",
       "    <tr>\n",
       "      <th>6</th>\n",
       "      <td>No</td>\n",
       "      <td>Yes</td>\n",
       "      <td>No</td>\n",
       "      <td>No</td>\n",
       "      <td>None</td>\n",
       "      <td>$</td>\n",
       "      <td>Yes</td>\n",
       "      <td>No</td>\n",
       "      <td>Burger</td>\n",
       "      <td>0-10</td>\n",
       "      <td>No</td>\n",
       "    </tr>\n",
       "    <tr>\n",
       "      <th>7</th>\n",
       "      <td>No</td>\n",
       "      <td>No</td>\n",
       "      <td>No</td>\n",
       "      <td>Yes</td>\n",
       "      <td>Some</td>\n",
       "      <td>$$</td>\n",
       "      <td>Yes</td>\n",
       "      <td>Yes</td>\n",
       "      <td>Thai</td>\n",
       "      <td>0-10</td>\n",
       "      <td>Yes</td>\n",
       "    </tr>\n",
       "    <tr>\n",
       "      <th>8</th>\n",
       "      <td>No</td>\n",
       "      <td>Yes</td>\n",
       "      <td>Yes</td>\n",
       "      <td>No</td>\n",
       "      <td>Full</td>\n",
       "      <td>$</td>\n",
       "      <td>Yes</td>\n",
       "      <td>No</td>\n",
       "      <td>Burger</td>\n",
       "      <td>&gt;60</td>\n",
       "      <td>No</td>\n",
       "    </tr>\n",
       "    <tr>\n",
       "      <th>9</th>\n",
       "      <td>Yes</td>\n",
       "      <td>Yes</td>\n",
       "      <td>Yes</td>\n",
       "      <td>Yes</td>\n",
       "      <td>Full</td>\n",
       "      <td>$$$</td>\n",
       "      <td>No</td>\n",
       "      <td>Yes</td>\n",
       "      <td>Italian</td>\n",
       "      <td>10-30</td>\n",
       "      <td>No</td>\n",
       "    </tr>\n",
       "    <tr>\n",
       "      <th>10</th>\n",
       "      <td>No</td>\n",
       "      <td>No</td>\n",
       "      <td>No</td>\n",
       "      <td>No</td>\n",
       "      <td>None</td>\n",
       "      <td>$</td>\n",
       "      <td>No</td>\n",
       "      <td>No</td>\n",
       "      <td>Thai</td>\n",
       "      <td>0-10</td>\n",
       "      <td>No</td>\n",
       "    </tr>\n",
       "    <tr>\n",
       "      <th>11</th>\n",
       "      <td>Yes</td>\n",
       "      <td>Yes</td>\n",
       "      <td>Yes</td>\n",
       "      <td>Yes</td>\n",
       "      <td>Full</td>\n",
       "      <td>$</td>\n",
       "      <td>No</td>\n",
       "      <td>No</td>\n",
       "      <td>Burger</td>\n",
       "      <td>30-60</td>\n",
       "      <td>Yes</td>\n",
       "    </tr>\n",
       "  </tbody>\n",
       "</table>"
      ],
      "text/plain": [
       "<IPython.core.display.HTML object>"
      ]
     },
     "metadata": {},
     "output_type": "display_data"
    }
   ],
   "source": [
    "table = GetTable(\"restaurant.txt\")"
   ]
  },
  {
   "cell_type": "markdown",
   "id": "13b89cb8",
   "metadata": {},
   "source": [
    "*Create & display decision tree:*"
   ]
  },
  {
   "cell_type": "code",
   "execution_count": 23,
   "id": "93c2ff10",
   "metadata": {},
   "outputs": [
    {
     "name": "stdout",
     "output_type": "stream",
     "text": [
      "{'4 | Pat = Some': ['Yes',\n",
      "                    {'3 | Hun = No': ['No',\n",
      "                                      {'2 | Fri = No': ['No',\n",
      "                                                        {'5 | Price = $': ['Yes',\n",
      "                                                                           'No']}]}]}]}\n"
     ]
    }
   ],
   "source": [
    "tree = plant(table.data, table.headers)\n",
    "pprint(tree,indent=1)"
   ]
  },
  {
   "cell_type": "markdown",
   "id": "8d155dda",
   "metadata": {},
   "source": [
    "*Corresponding confusion matrix:*"
   ]
  },
  {
   "cell_type": "code",
   "execution_count": 24,
   "id": "14ca1611",
   "metadata": {},
   "outputs": [
    {
     "name": "stdout",
     "output_type": "stream",
     "text": [
      "Predicted  No  Yes  All\n",
      "Actual                 \n",
      "No          6    0    6\n",
      "Yes         0    6    6\n",
      "All         6    6   12\n"
     ]
    }
   ],
   "source": [
    "confusionMatrix(table.data, tree)"
   ]
  },
  {
   "cell_type": "markdown",
   "id": "58b4bbd8",
   "metadata": {},
   "source": [
    "<br>\n",
    "<a name=\"vertebrate\"></a>\n",
    "\n",
    "**vertebrate**"
   ]
  },
  {
   "cell_type": "code",
   "execution_count": 25,
   "id": "473b3ca8",
   "metadata": {},
   "outputs": [
    {
     "data": {
      "text/html": [
       "\n",
       "        <style>\n",
       "            table.dataframe table {\n",
       "                border-collapse: collapse;\n",
       "            }\n",
       "            table.dataframe td:first-child { border-left: none; }\n",
       "            table.dataframe th {\n",
       "                text-align: left;\n",
       "                font-weight: bold;\n",
       "            }\n",
       "            table.dataframe td { \n",
       "                border-left: 0.75px solid lightgrey;\n",
       "                border-bottom: 0.75px solid lightgrey;\n",
       "                text-align: left;\n",
       "            }\n",
       "            table.dataframe thead th {\n",
       "                background-color: #e8e8e8;\n",
       "                border-bottom: 3px solid black; \n",
       "            }\n",
       "            table.dataframe tbody th{ border-right: 2px solid black; }\n",
       "            table.dataframe tr:nth-child(even){ background-color: #e0f1ff; }\n",
       "            table.dataframe tbody th:nth-child(even) { background-color: #e0f1ff; }\n",
       "              \n",
       "        </style>\n",
       "        <table border=\"1\" class=\"dataframe table\">\n",
       "  <thead>\n",
       "    <tr style=\"text-align: right;\">\n",
       "      <th></th>\n",
       "      <th>Name</th>\n",
       "      <th>Body-Temperature</th>\n",
       "      <th>Skin-Cover</th>\n",
       "      <th>Gives-Birth</th>\n",
       "      <th>Aquatic-Creature</th>\n",
       "      <th>Aerial-Creature</th>\n",
       "      <th>Has-Legs</th>\n",
       "      <th>Hiber-nates</th>\n",
       "      <th>Class-Label</th>\n",
       "    </tr>\n",
       "  </thead>\n",
       "  <tbody>\n",
       "    <tr>\n",
       "      <th>0</th>\n",
       "      <td>human</td>\n",
       "      <td>warm-blooded</td>\n",
       "      <td>hair</td>\n",
       "      <td>yes</td>\n",
       "      <td>no</td>\n",
       "      <td>no</td>\n",
       "      <td>yes</td>\n",
       "      <td>no</td>\n",
       "      <td>mammal</td>\n",
       "    </tr>\n",
       "    <tr>\n",
       "      <th>1</th>\n",
       "      <td>python</td>\n",
       "      <td>cold-blooded</td>\n",
       "      <td>scales</td>\n",
       "      <td>no</td>\n",
       "      <td>no</td>\n",
       "      <td>no</td>\n",
       "      <td>no</td>\n",
       "      <td>yes</td>\n",
       "      <td>reptile</td>\n",
       "    </tr>\n",
       "    <tr>\n",
       "      <th>2</th>\n",
       "      <td>salmon</td>\n",
       "      <td>cold-blooded</td>\n",
       "      <td>scales</td>\n",
       "      <td>no</td>\n",
       "      <td>yes</td>\n",
       "      <td>no</td>\n",
       "      <td>no</td>\n",
       "      <td>no</td>\n",
       "      <td>fish</td>\n",
       "    </tr>\n",
       "    <tr>\n",
       "      <th>3</th>\n",
       "      <td>whale</td>\n",
       "      <td>warm-blooded</td>\n",
       "      <td>hair</td>\n",
       "      <td>yes</td>\n",
       "      <td>yes</td>\n",
       "      <td>no</td>\n",
       "      <td>no</td>\n",
       "      <td>no</td>\n",
       "      <td>mammal</td>\n",
       "    </tr>\n",
       "    <tr>\n",
       "      <th>4</th>\n",
       "      <td>frog</td>\n",
       "      <td>cold-blooded</td>\n",
       "      <td>none</td>\n",
       "      <td>no</td>\n",
       "      <td>semi</td>\n",
       "      <td>no</td>\n",
       "      <td>yes</td>\n",
       "      <td>yes</td>\n",
       "      <td>amphibian</td>\n",
       "    </tr>\n",
       "    <tr>\n",
       "      <th>5</th>\n",
       "      <td>komodo</td>\n",
       "      <td>cold-blooded</td>\n",
       "      <td>scales</td>\n",
       "      <td>no</td>\n",
       "      <td>no</td>\n",
       "      <td>no</td>\n",
       "      <td>yes</td>\n",
       "      <td>no</td>\n",
       "      <td>reptile</td>\n",
       "    </tr>\n",
       "    <tr>\n",
       "      <th>6</th>\n",
       "      <td>bat</td>\n",
       "      <td>warm-blooded</td>\n",
       "      <td>hair</td>\n",
       "      <td>yes</td>\n",
       "      <td>no</td>\n",
       "      <td>yes</td>\n",
       "      <td>yes</td>\n",
       "      <td>yes</td>\n",
       "      <td>mammal</td>\n",
       "    </tr>\n",
       "    <tr>\n",
       "      <th>7</th>\n",
       "      <td>pigeon</td>\n",
       "      <td>warm-blooded</td>\n",
       "      <td>feathers</td>\n",
       "      <td>no</td>\n",
       "      <td>no</td>\n",
       "      <td>yes</td>\n",
       "      <td>yes</td>\n",
       "      <td>no</td>\n",
       "      <td>bird</td>\n",
       "    </tr>\n",
       "    <tr>\n",
       "      <th>8</th>\n",
       "      <td>cat</td>\n",
       "      <td>warm-blooded</td>\n",
       "      <td>fur</td>\n",
       "      <td>yes</td>\n",
       "      <td>no</td>\n",
       "      <td>no</td>\n",
       "      <td>yes</td>\n",
       "      <td>no</td>\n",
       "      <td>mammal</td>\n",
       "    </tr>\n",
       "    <tr>\n",
       "      <th>9</th>\n",
       "      <td>leopard</td>\n",
       "      <td>cold-blooded</td>\n",
       "      <td>scales</td>\n",
       "      <td>yes</td>\n",
       "      <td>yes</td>\n",
       "      <td>no</td>\n",
       "      <td>no</td>\n",
       "      <td>no</td>\n",
       "      <td>fish</td>\n",
       "    </tr>\n",
       "    <tr>\n",
       "      <th>10</th>\n",
       "      <td>turtle</td>\n",
       "      <td>cold-blooded</td>\n",
       "      <td>scales</td>\n",
       "      <td>no</td>\n",
       "      <td>semi</td>\n",
       "      <td>no</td>\n",
       "      <td>yes</td>\n",
       "      <td>no</td>\n",
       "      <td>reptile</td>\n",
       "    </tr>\n",
       "    <tr>\n",
       "      <th>11</th>\n",
       "      <td>penguin</td>\n",
       "      <td>warm-blooded</td>\n",
       "      <td>feathers</td>\n",
       "      <td>no</td>\n",
       "      <td>semi</td>\n",
       "      <td>no</td>\n",
       "      <td>yes</td>\n",
       "      <td>no</td>\n",
       "      <td>bird</td>\n",
       "    </tr>\n",
       "    <tr>\n",
       "      <th>12</th>\n",
       "      <td>porcupine</td>\n",
       "      <td>warm-blooded</td>\n",
       "      <td>quills</td>\n",
       "      <td>yes</td>\n",
       "      <td>no</td>\n",
       "      <td>no</td>\n",
       "      <td>yes</td>\n",
       "      <td>yes</td>\n",
       "      <td>mammal</td>\n",
       "    </tr>\n",
       "    <tr>\n",
       "      <th>13</th>\n",
       "      <td>eel</td>\n",
       "      <td>cold-blooded</td>\n",
       "      <td>scales</td>\n",
       "      <td>no</td>\n",
       "      <td>yes</td>\n",
       "      <td>no</td>\n",
       "      <td>no</td>\n",
       "      <td>no</td>\n",
       "      <td>fish</td>\n",
       "    </tr>\n",
       "    <tr>\n",
       "      <th>14</th>\n",
       "      <td>salamander</td>\n",
       "      <td>cold-blooded</td>\n",
       "      <td>none</td>\n",
       "      <td>no</td>\n",
       "      <td>semi</td>\n",
       "      <td>no</td>\n",
       "      <td>yes</td>\n",
       "      <td>yes</td>\n",
       "      <td>amphibian</td>\n",
       "    </tr>\n",
       "  </tbody>\n",
       "</table>"
      ],
      "text/plain": [
       "<IPython.core.display.HTML object>"
      ]
     },
     "metadata": {},
     "output_type": "display_data"
    }
   ],
   "source": [
    "table = GetTable(\"vertebrate.txt\")"
   ]
  },
  {
   "cell_type": "markdown",
   "id": "bfd41abf",
   "metadata": {},
   "source": [
    "*Create & display decision tree:*"
   ]
  },
  {
   "cell_type": "code",
   "execution_count": 26,
   "id": "7236c0f5",
   "metadata": {},
   "outputs": [
    {
     "name": "stdout",
     "output_type": "stream",
     "text": [
      "{'1 | Body-Temperature = cold-blooded': [{'4 | Aquatic-Creature = yes': ['fish',\n",
      "                                                                         {'2 | Skin-Cover = none': ['amphibian',\n",
      "                                                                                                    'reptile']}]},\n",
      "                                         {'2 | Skin-Cover = feathers': ['bird',\n",
      "                                                                        'mammal']}]}\n"
     ]
    }
   ],
   "source": [
    "tree = plant(table.data, table.headers)\n",
    "pprint(tree,indent=1)"
   ]
  },
  {
   "cell_type": "markdown",
   "id": "fd787c13",
   "metadata": {},
   "source": [
    "*Corresponding confusion matrix:*"
   ]
  },
  {
   "cell_type": "code",
   "execution_count": 27,
   "id": "ec5107ad",
   "metadata": {},
   "outputs": [
    {
     "name": "stdout",
     "output_type": "stream",
     "text": [
      "Predicted  amphibian  bird  fish  mammal  reptile  All\n",
      "Actual                                                \n",
      "amphibian          2     0     0       0        0    2\n",
      "bird               0     2     0       0        0    2\n",
      "fish               0     0     3       0        0    3\n",
      "mammal             0     0     0       5        0    5\n",
      "reptile            0     0     0       0        3    3\n",
      "All                2     2     3       5        3   15\n"
     ]
    }
   ],
   "source": [
    "confusionMatrix(table.data, tree)"
   ]
  },
  {
   "cell_type": "markdown",
   "id": "a93ac6f3",
   "metadata": {},
   "source": [
    "<br>\n",
    "<a name=\"Report\"></a> \n",
    "<center><h2> Report </h2></center> \n",
    "<br>\n"
   ]
  },
  {
   "cell_type": "markdown",
   "id": "27904efd",
   "metadata": {},
   "source": [
    "**Overview**\n",
    "\n",
    "&nbsp;&nbsp;&nbsp;&nbsp;&nbsp;&nbsp;The above implementation is a function-centric implementation of a categorical decision tree creation algorithm. This is due to my familiarity with this paradigm of programming. Though traditionally, a more class-centric approach is taken, and admittedly such an implementation is more desirable. However, a function-centric approach enables the use of cell-oriented programming in a notebook such as this. Moreover, I opted to segment the functionality as much as possible to clarify what was occurring throughout the program's source code. This allowed me to incrementally check my work and made it easier to understand for those viewing it. \n",
    "\n",
    "&nbsp;&nbsp;&nbsp;&nbsp;&nbsp;&nbsp;I chose sources similar to the original Restaurant example given in figure 18.2 of the textbook. This allows for the entire tree to be displayed, and it could be easily validated. However, admittedly running on such small tables is impractical.  \n",
    "\n",
    "<br>\n",
    "\n",
    "**Specifics**\n",
    "\n",
    "&nbsp;&nbsp;&nbsp;&nbsp;&nbsp;&nbsp;The example input files are simple text files with the traditional layout of a table (.csv) file, except the separators are expected to be tab characters as specified in the prompt for this project. The example input is taken in as a pandas dataframe; this allows each table to be displayed nicely using HTML formatting. However, after displaying, the dataframe is turned into a NumPy array, and its column names and body are separated and stored in a class. The table remains as this tableLike class containing NumPy arrays until the confusion matrix is displayed; at that point, it is turned into a pandas series to be displayed using the sklearn confusion_matrix function.  \n",
    "<br>\n",
    "\n",
    "\n",
    "**Improvements**\n",
    "\n",
    "&nbsp;&nbsp;&nbsp;&nbsp;&nbsp;&nbsp;Implementing a decision tree from such a low level is regarding, but they're already exists well-defined libraries that can do it better, such as sklearn. I would have preferred to use external functions in place of my own while maintaining the level of comments in the current implementation. Making the implementation faster while maintaining clarity.  \n",
    "\n",
    "&nbsp;&nbsp;&nbsp;&nbsp;&nbsp;&nbsp;The use of NumPy arrays as a method of storing categorical tables is less than ideal, as it is not designed with the string data type in mind. As a result, speed's primary benefit of using a NumPy array is negated when working with strings. Moreover, I ran into many know issues with NumPy functions that don't work with strings. Because of this, I would opt to keep the table as a pandas dataframe in future implementations.  \n",
    "<br>\n",
    "\n"
   ]
  },
  {
   "cell_type": "markdown",
   "id": "8a4525a2",
   "metadata": {},
   "source": [
    "<br>\n",
    "<a name=\"References\"></a>\n",
    "<center><h2> References </h2></center> \n",
    "<br>\n"
   ]
  },
  {
   "cell_type": "markdown",
   "id": "3ab3949d",
   "metadata": {},
   "source": [
    "**Concepts**  \n",
    "*The following gave a further overview of Decision Trees & how to build them*\n",
    "\n",
    "This [Decision Tree Outline Document](https://www.cs.cmu.edu/~bhiksha/courses/10-601/decisiontrees/) by Dr.Raj on Carnegie Mellon University's website.  \n",
    "\n",
    "The textbook for this course, [Artificial intelligence: A modern approach](https://cs.calvin.edu/courses/cs/344/kvlinden/resources/AIMA-3rd-edition.pdf) by Russell S & Norvig P.  \n",
    "<br>\n",
    "\n",
    "**Implementation**  \n",
    "*The following gave specific code/function which was adapted*  \n",
    "\n",
    "Mantey S's [Decision-Tree-from-Scratch](https://github.com/SebastianMantey/Decision-Tree-from-Scratch) GitHub repository  \n",
    "<br>\n",
    "\n",
    "**Examples**   \n",
    "*All example tables were adapted from their following respective sources.*\n",
    "\n",
    "Mammal & Vertebrate:  \n",
    "Chapter 4 in [Introduction to Data Mining](https://www-users.cse.umn.edu/~kumar001/dmbook/index.php) by Tan P,  Steinbach M, et al.\n",
    "\n",
    "Tennis:  \n",
    "Chapter 3 in [Machine Learning](https://www.cin.ufpe.br/~cavmj/Machine%20-%20Learning%20-%20Tom%20Mitchell.pdf) by Mitchell T.  \n",
    "\n",
    "Restaurant:  \n",
    "Chapter 18 in [Artificial intelligence: A modern approach](https://cs.calvin.edu/courses/cs/344/kvlinden/resources/AIMA-3rd-edition.pdf) by Russell S & Norvig P.  \n",
    "<br>\n",
    "\n"
   ]
  }
 ],
 "metadata": {
  "kernelspec": {
   "display_name": "Python 3 (ipykernel)",
   "language": "python",
   "name": "python3"
  },
  "language_info": {
   "codemirror_mode": {
    "name": "ipython",
    "version": 3
   },
   "file_extension": ".py",
   "mimetype": "text/x-python",
   "name": "python",
   "nbconvert_exporter": "python",
   "pygments_lexer": "ipython3",
   "version": "3.10.1"
  }
 },
 "nbformat": 4,
 "nbformat_minor": 5
}
